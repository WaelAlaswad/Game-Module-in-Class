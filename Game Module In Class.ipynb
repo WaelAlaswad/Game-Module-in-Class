{
 "cells": [
  {
   "cell_type": "code",
   "execution_count": 175,
   "metadata": {},
   "outputs": [],
   "source": [
    "#Three Game Module and The User Has To Choose One From Them:"
   ]
  },
  {
   "cell_type": "code",
   "execution_count": 178,
   "metadata": {},
   "outputs": [
    {
     "name": "stdout",
     "output_type": "stream",
     "text": [
      "Please Select One Of The Below Games To Start :\n",
      " 1 For Car Game\n",
      " 2 For Multiplication Table Game\n",
      " 3 For RPS Game \n",
      "Game Hint: \n",
      "Once You Select One Option From ['Rock','Paper','Cissor']: \n",
      "The PC will Show His Selection And Will Display Your Selection \n",
      "PC Choice is : Cissor\n",
      "User Choice Is : Rock\n"
     ]
    }
   ],
   "source": [
    "def gameSelection():\n",
    "    print(\"Please Select One Of The Below Games To Start :\\n 1 For Car Game\\n 2 For Multiplication Table Game\\n 3 For RPS Game \")\n",
    "\n",
    "    gameSelectionInput=int(input(\"Please Select A game To Start\"))\n",
    "    if gameSelectionInput == 1:\n",
    "\n",
    "\n",
    "        class CarGame():\n",
    "\n",
    "            @staticmethod\n",
    "            def gameHelp():\n",
    "                print(\"Please select one from the following commands:\\nstart : to start the game\\nstop  : to stop the game\\nquit  : to end the game\")\n",
    "\n",
    "            gameHelp()\n",
    "\n",
    "            userInput = str(\n",
    "                input(\"Please select one of the above input to proceed: \"))\n",
    "\n",
    "            def __init__(self, userInput):\n",
    "                self.userInput = userInput\n",
    "\n",
    "            @classmethod\n",
    "            def commandGame(cls):\n",
    "\n",
    "                if cls.userInput == \"start\":\n",
    "                    print(\"I'm ready to go\")\n",
    "                elif cls.userInput == \"stop\":\n",
    "                    print(\"car stop\")\n",
    "                elif cls.userInput == \"quit\":\n",
    "                    print(\"stop the game\")\n",
    "                else:\n",
    "                    print(\"Your Input Is Out Of Range\")\n",
    "\n",
    "        CarGame.commandGame()\n",
    "\n",
    "    if gameSelectionInput == 2:\n",
    "\n",
    "        class NumberMultiplication:\n",
    "            inputNumber= float(input(\"Please Type Number To Display Its Multiplication: \"))\n",
    "\n",
    "            def __init__(self,inputNumber):\n",
    "                self.inputNumber=inputNumber\n",
    "\n",
    "            @classmethod\n",
    "            def dispaly(cls):\n",
    "        \n",
    "                print(f\"The Multiplication Table Of {cls.inputNumber} is:\")\n",
    "                for n in range(1,11):\n",
    "                                \n",
    "                    print(f\"{n} x {cls.inputNumber} = \", n*cls.inputNumber)\n",
    "                \n",
    "        NumberMultiplication.dispaly()\n",
    "\n",
    "    if gameSelectionInput == 3:   \n",
    "\n",
    "        import random\n",
    "        class RPS:\n",
    "\n",
    "            gameChoises= ['Rock','Paper','Cissor']\n",
    "    \n",
    "            print(\"Game Hint: \\nOnce You Select One Option From ['Rock','Paper','Cissor']: \\nThe PC will Show His Selection And Will Display Your Selection \") \n",
    "    \n",
    "            userChoise=(input(\"Please Make Your Choice: \"))\n",
    "                \n",
    "            def __init__(self,userChoise):\n",
    "                self.userChoise= userChoise       \n",
    "\n",
    "            @classmethod\n",
    "            def PC_Choise(cls):   \n",
    "                \n",
    "                print(f\"PC Choice is : {random.choice(cls.gameChoises)}\")\n",
    "\n",
    "                if cls.userChoise.title() ==\"Rock\":\n",
    "                    print(f\"User Choice Is : {cls.userChoise.title()}\") \n",
    "                if cls.userChoise.title() ==\"Paper\":\n",
    "                    print(f\"User Choice Is : {cls.userChoise.title()}\")\n",
    "                if cls.userChoise.title() ==\"Cissor\":\n",
    "                    print(f\"User Choice Is : {cls.userChoise.title()}\")       \n",
    "                \n",
    "                     \n",
    "\n",
    "        RPS.PC_Choise()\n",
    "gameSelection()"
   ]
  }
 ],
 "metadata": {
  "kernelspec": {
   "display_name": "Python 3.10.1 64-bit",
   "language": "python",
   "name": "python3"
  },
  "language_info": {
   "codemirror_mode": {
    "name": "ipython",
    "version": 3
   },
   "file_extension": ".py",
   "mimetype": "text/x-python",
   "name": "python",
   "nbconvert_exporter": "python",
   "pygments_lexer": "ipython3",
   "version": "3.10.1"
  },
  "orig_nbformat": 4,
  "vscode": {
   "interpreter": {
    "hash": "cfb290067cd8c0e27243bb25ad9b037fd47bb62353ba87cfd026ce4b9af78aab"
   }
  }
 },
 "nbformat": 4,
 "nbformat_minor": 2
}
